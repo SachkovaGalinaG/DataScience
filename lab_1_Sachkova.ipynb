{
 "cells": [
  {
   "cell_type": "markdown",
   "metadata": {
    "id": "Jyrf8xk3k6Ys"
   },
   "source": [
    "# Лабораторная работа к лекции 1\n",
    "Ваше имя: Сачкова Галина\n",
    "\n",
    "Ваш адрес электронной почты: SachkovaGG@mgpu.ru"
   ]
  },
  {
   "cell_type": "markdown",
   "metadata": {
    "id": "86N7viRzk6Yt"
   },
   "source": [
    "## Упражнение 1.1. Типы данных и операции\n",
    "1. Определите две переменные и присвойте первой целое число, а второй — число с плавающей запятой. Определите новую переменную и присвойте сумму двух предыдущих переменных. Каков тип данных третьей переменной?\n",
    "2. Переназначьте переменную с другим типом данных, например, возьмите одну из числовых переменных и присвойте ей строку. Какой новый тип данных?\n",
    "3. Посмотрите, что произойдет, если вы попытаетесь добавить строку к строке.\n",
    "4. Посмотрите, что произойдет, если вы добавите строку к числу с плавающей запятой или целому числу."
   ]
  },
  {
   "cell_type": "code",
   "execution_count": 36,
   "metadata": {
    "id": "9ZgZCUPNk6Yt"
   },
   "outputs": [
    {
     "name": "stdout",
     "output_type": "stream",
     "text": [
      "<class 'float'>\n",
      "<class 'str'>\n",
      "Hello, world!\n",
      "Hello, 2.3\n"
     ]
    }
   ],
   "source": [
    "# 1 - float\n",
    "x = 7\n",
    "y = 2.3\n",
    "summa = x + y\n",
    "print(type(summa))\n",
    "# 2 - str\n",
    "x = \"10\"\n",
    "print(type(x))\n",
    "# 3 - Получится предложение из 2 строк\n",
    "line1 = \"Hello, \"\n",
    "line2 = \"world!\"\n",
    "print(line1+line2)\n",
    "# 4 - Если складывать просто число, то произойдет ошибкa, но если перевести число в строку, то получится новая строка с числом\n",
    "print(line1+str(y))\n",
    "#print(line1+y)"
   ]
  },
  {
   "cell_type": "markdown",
   "metadata": {
    "id": "ZMoobyT-k6Yu"
   },
   "source": [
    "## Упражнение 1.2. Запуск программ\n",
    "\n",
    "  * Создайте новый файл Python(или файл с расширением `.ipynb`) и используйте функцию `double_number` в качестве шаблона. Измените код, чтобы добавить два числа вместо удвоения одного числа.\n",
    "  * Можете ли вы догадаться, что произойдет, если изменить отступ? Выполните данное действие.\n",
    "  * Попробуйте, что произойдет, если вы напечатаете `a` в самом конце программы. Пояснить, что происходит?\n",
    " [Текст ссылки](https://)"
   ]
  },
  {
   "cell_type": "code",
   "execution_count": 37,
   "metadata": {
    "id": "N2v5UHG1k6Yu"
   },
   "outputs": [
    {
     "name": "stdout",
     "output_type": "stream",
     "text": [
      "16\n"
     ]
    }
   ],
   "source": [
    "def double_number(x, y):\n",
    "    \"\"\"\n",
    "    Функция принимает два числа и возвращает их сумму, умноженную на 2.\n",
    "    \"\"\"\n",
    "    result = x + y\n",
    "    return result * 2\n",
    "# Пример\n",
    "number1 = 3\n",
    "number2 = 5\n",
    "result = double_number(number1, number2)\n",
    "print(result)\n",
    "\n",
    "# Изменение отступа приведет к ошибке, т.к это изменение структуры кода\n",
    "#a = 10\n",
    "#print(a)\n",
    "# Если а напечатано без отступа, то просто выведется ее значение, если же с отступом, то появится ошибка"
   ]
  },
  {
   "cell_type": "markdown",
   "metadata": {
    "id": "15GtjpzGk6Yu"
   },
   "source": [
    "## Упражнение 1.3. Создание ячеек, выполнение кода\n",
    "\n",
    "1. Создайте новую ячейку кода ниже, где вы определите переменные, содержащие ваше имя, ваш возраст  и вашу специальность.\n",
    "2. Создайте еще одну ячейку, использующую эти переменные, и выведите объединенную строку с указанием вашего имени, специальности и возраста в годах, месяцах и днях (при условии, что сегодня ваш день рождения). Вывод должен выглядеть так:\n",
    "\n",
    "```\n",
    "Имя: Кот-ученый, Специальность: Бизнес-Информатика, Возраст: 18 лет, или 216 месяцев, или 6480 дней..\n",
    "```"
   ]
  },
  {
   "cell_type": "code",
   "execution_count": 23,
   "metadata": {},
   "outputs": [],
   "source": [
    "name = \"Галина\"\n",
    "age_years = 19\n",
    "specialty = \"Бизнес-Информатика\""
   ]
  },
  {
   "cell_type": "code",
   "execution_count": 26,
   "metadata": {},
   "outputs": [
    {
     "name": "stdout",
     "output_type": "stream",
     "text": [
      "Имя: Галина, Специальность: Бизнес-Информатика, Возраст: 19 лет, или 228 месяцев, или 6935 дней.\n"
     ]
    }
   ],
   "source": [
    "years = age\n",
    "months = age * 12\n",
    "days = age * 365\n",
    "\n",
    "print(f\"Имя: {name}, Специальность: {specialty}, Возраст: {years} лет, или {months} месяцев, или {days} дней.\")"
   ]
  },
  {
   "cell_type": "markdown",
   "metadata": {
    "id": "bPTBzjXhk6Yu"
   },
   "source": [
    "## Упражнение 1.4: Функции\n",
    "Напишите функцию, которая\n",
    "  * принимает две числовые переменные\n",
    "  * умножает их друг на друга\n",
    "  * делит их на числовую переменную, определенную в области видимости вне функции\n",
    "  * и возвращает результат.\n",
    "\n",
    "Выведите результат функции для трех разных наборов входных переменных."
   ]
  },
  {
   "cell_type": "code",
   "execution_count": 28,
   "metadata": {
    "id": "z7DKIUQCk6Yu"
   },
   "outputs": [
    {
     "name": "stdout",
     "output_type": "stream",
     "text": [
      "7.5\n",
      "-8.0\n",
      "20.0\n"
     ]
    }
   ],
   "source": [
    "n = 2 #Переменная в области видимости\n",
    "def multiply_and_divide(x, y):\n",
    "    result = (x * y) / n\n",
    "    return result\n",
    "\n",
    "result1 = multiply_and_divide(5, 3)\n",
    "result2 = multiply_and_divide(-8, 2)\n",
    "result3 = multiply_and_divide(10, 4)\n",
    "\n",
    "print(result1)\n",
    "print(result2)\n",
    "print(result3)\n"
   ]
  },
  {
   "cell_type": "markdown",
   "metadata": {},
   "source": [
    "## Упражнение 1.5*\n",
    "\n",
    "Есть некоторые данные о количестве книг, прочитанных разными людьми, работающими в книжном магазине Владимира. Создайте код Python, который учитывает каждого человека и выводит, сколько книг он прочитал. Если кто-то прочитал 0 книг, выведите «___ не читал ни одной книги!» вместо количества книг."
   ]
  },
  {
   "cell_type": "code",
   "execution_count": 29,
   "metadata": {},
   "outputs": [],
   "source": [
    "people = ['Krishnang', 'Steve', 'Jimmy', 'Mary', 'Divya', 'Robert', 'Yulia']\n",
    "books_read = [12, 6, 0, 7, 4, 10, 15]"
   ]
  },
  {
   "cell_type": "markdown",
   "metadata": {},
   "source": [
    "Существует несколько способов решить эту задачу: можно изучить функцию `zip()`, использовать `enumerate()`, `range` и `len` или использовать другие методы. Чтобы напечатать имена и значения, вы можете использовать конкатенацию строк (+), форматирование f-строки или другие методы."
   ]
  },
  {
   "cell_type": "code",
   "execution_count": 30,
   "metadata": {},
   "outputs": [
    {
     "name": "stdout",
     "output_type": "stream",
     "text": [
      "Krishnang прочитал 12 книг.\n",
      "Steve прочитал 6 книг.\n",
      "Jimmy не читал ни одной книги!\n",
      "Mary прочитал 7 книг.\n",
      "Divya прочитал 4 книг.\n",
      "Robert прочитал 10 книг.\n",
      "Yulia прочитал 15 книг.\n"
     ]
    }
   ],
   "source": [
    "# Функция zip () используется для совмещения двух и более списков в один\n",
    "for person, books_count in zip(people, books_read):\n",
    "    if books_count == 0:\n",
    "        print(f\"{person} не читал(a) ни одной книги!\")\n",
    "    else:\n",
    "        print(f\"{person} прочитал(а) {books_count} книг.\")"
   ]
  },
  {
   "cell_type": "code",
   "execution_count": 33,
   "metadata": {},
   "outputs": [
    {
     "name": "stdout",
     "output_type": "stream",
     "text": [
      "Krishnang прочитал(a) 12 книг.\n",
      "Steve прочитал(a) 6 книг.\n",
      "Jimmy не читал ни одной книги!\n",
      "Mary прочитал(a) 7 книг.\n",
      "Divya прочитал(a) 4 книг.\n",
      "Robert прочитал(a) 10 книг.\n",
      "Yulia прочитал(a) 15 книг.\n"
     ]
    }
   ],
   "source": [
    "#Функция Enumerate () добавляет счетчик к каждому элементу итерируемого объекта и возвращает перечисляемый объект.\n",
    "for index, books_count in enumerate(books_read):\n",
    "    person = people[index]\n",
    "    if books_count == 0:\n",
    "        print(f\"{person} не читал(a) ни одной книги!\")\n",
    "    else:\n",
    "        print(f\"{person} прочитал(a) {books_count} книг.\")"
   ]
  },
  {
   "cell_type": "markdown",
   "metadata": {},
   "source": [
    "Преобразуйте только что созданный цикл в функцию, которая принимает два списка (прочитанные книги и людей) в качестве аргументов."
   ]
  },
  {
   "cell_type": "code",
   "execution_count": 34,
   "metadata": {},
   "outputs": [
    {
     "name": "stdout",
     "output_type": "stream",
     "text": [
      "Krishnang прочитал 12 книг.\n",
      "Steve прочитал 6 книг.\n",
      "Jimmy не читал ни одной книги!\n",
      "Mary прочитал 7 книг.\n",
      "Divya прочитал 4 книг.\n",
      "Robert прочитал 10 книг.\n",
      "Yulia прочитал 15 книг.\n"
     ]
    }
   ],
   "source": [
    "def print_books_read(people_list, books_read_list):\n",
    "    for person, books_count in zip(people_list, books_read_list):\n",
    "        if books_count == 0:\n",
    "            print(f\"{person} не читал(a) ни одной книги!\")\n",
    "        else:\n",
    "            print(f\"{person} прочитал(a) {books_count} книг.\")\n",
    "print_books_read(people, books_read)\n"
   ]
  },
  {
   "cell_type": "markdown",
   "metadata": {},
   "source": [
    "Отсортируйте значения `books_read` от большего к меньшему и выведите трех первых людей с количеством прочитанных ими книг. Некоторые возможные способы решения этой задачи включают использование сортировки аргументов `NumPy`, создание словаря и создание кортежей."
   ]
  },
  {
   "cell_type": "code",
   "execution_count": 35,
   "metadata": {},
   "outputs": [
    {
     "name": "stdout",
     "output_type": "stream",
     "text": [
      "Yulia прочитал(a) 15 книг.\n",
      "Krishnang прочитал(a) 12 книг.\n",
      "Robert прочитал(a) 10 книг.\n"
     ]
    }
   ],
   "source": [
    "sorted_people_books = sorted(zip(people, books_read), key=lambda x: x[1], reverse=True)\n",
    "\n",
    "for person, books_count in sorted_people_books[:3]:\n",
    "    print(f\"{person} прочитал(a) {books_count} книг.\")\n"
   ]
  }
 ],
 "metadata": {
  "colab": {
   "provenance": []
  },
  "kernelspec": {
   "display_name": "Python 3 (ipykernel)",
   "language": "python",
   "name": "python3"
  },
  "language_info": {
   "codemirror_mode": {
    "name": "ipython",
    "version": 3
   },
   "file_extension": ".py",
   "mimetype": "text/x-python",
   "name": "python",
   "nbconvert_exporter": "python",
   "pygments_lexer": "ipython3",
   "version": "3.9.13"
  }
 },
 "nbformat": 4,
 "nbformat_minor": 1
}
