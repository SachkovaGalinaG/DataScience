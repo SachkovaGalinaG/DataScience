{
  "cells": [
    {
      "cell_type": "markdown",
      "metadata": {
        "id": "7Z52uAd7NhkE"
      },
      "source": [
        "# Лабораторная работа 2-1"
      ]
    },
    {
      "cell_type": "markdown",
      "metadata": {
        "collapsed": true,
        "id": "C8vlUIYXNhkG"
      },
      "source": [
        "## 2.1.1: Множества\n",
        "\n",
        "Напишите функцию, которая находит пересечение двух множеств и печатает их.\n",
        "Инициализируйте два множества, например, значениями {13, 25, 37, 45, 13} и {14, 25, 38, 8, 45} и вызовите  функцию."
      ]
    },
    {
      "cell_type": "code",
      "execution_count": 2,
      "metadata": {
        "colab": {
          "base_uri": "https://localhost:8080/"
        },
        "id": "sCRTl_ldNhkH",
        "outputId": "bd2a25ec-3355-4a29-ffde-1e66d73a90ae"
      },
      "outputs": [
        {
          "output_type": "stream",
          "name": "stdout",
          "text": [
            "{25, 45}\n"
          ]
        }
      ],
      "source": [
        "def perek(set1, set2):\n",
        "    perek = set1.intersection(set2)\n",
        "    print(perek)\n",
        "\n",
        "set1 = {13, 25, 37, 45, 13}\n",
        "set2 = {14, 25, 38, 8, 45}\n",
        "\n",
        "perek(set1, set2)\n"
      ]
    },
    {
      "cell_type": "markdown",
      "metadata": {
        "id": "ZsTe1BDzNhkI"
      },
      "source": [
        "## 2.1.2: Dictionaries\n",
        "\n",
        "* Создайте словарь с двухбуквенными кодами двух федеральных округов России и полными названиями, например, ЦТ: \tЦентральный, ЮЖ: Южный.\n",
        "* После первоначального создания словаря добавьте в словарь еще два округа.\n",
        "* Создайте второй словарь, который сопоставляет коды федеральных округов России с массивом городов в этом округе, например, ЦТ: [Москва, Тверь, Химки, Мытищи].\n",
        "* Напишите функцию, которая принимает код федеральных округов, печатает полное название округа и выводит список городов в этом округе."
      ]
    },
    {
      "cell_type": "markdown",
      "source": [
        "Словарь с двухбуквенными кодами двух федеральных округов России и полными названиями"
      ],
      "metadata": {
        "id": "3WPeAWyVEgKS"
      }
    },
    {
      "cell_type": "code",
      "execution_count": 5,
      "metadata": {
        "colab": {
          "base_uri": "https://localhost:8080/"
        },
        "id": "AlHC0LTbNhkI",
        "outputId": "bb6b988f-d459-48fe-95bc-6dc961f9d2c4"
      },
      "outputs": [
        {
          "output_type": "execute_result",
          "data": {
            "text/plain": [
              "{'ЦТ': 'Центральный', 'ЮЖ': 'Южный'}"
            ]
          },
          "metadata": {},
          "execution_count": 5
        }
      ],
      "source": [
        "dict_fed = {\"ЦТ\": 'Центральный', \"ЮЖ\": 'Южный'}\n",
        "dict_fed"
      ]
    },
    {
      "cell_type": "markdown",
      "source": [
        "Добавление двух округов"
      ],
      "metadata": {
        "id": "CEm2XDyOLLJV"
      }
    },
    {
      "cell_type": "code",
      "source": [
        "dict_fed[\"СВ\"] = \"Северный\"\n",
        "dict_fed[\"СЗ\"] = \"Северо-Западный\"\n",
        "dict_fed"
      ],
      "metadata": {
        "colab": {
          "base_uri": "https://localhost:8080/"
        },
        "id": "VOGFII6iR3UL",
        "outputId": "32438a30-d8b6-474e-84cc-b92837bb8f68"
      },
      "execution_count": 6,
      "outputs": [
        {
          "output_type": "execute_result",
          "data": {
            "text/plain": [
              "{'ЦТ': 'Центральный', 'ЮЖ': 'Южный', 'СВ': 'Северный', 'СЗ': 'Северо-Западный'}"
            ]
          },
          "metadata": {},
          "execution_count": 6
        }
      ]
    },
    {
      "cell_type": "markdown",
      "source": [
        " Словарь, который сопоставляет коды федеральных округов России с массивом городов в этом округе"
      ],
      "metadata": {
        "id": "hJfkeYDZLS_U"
      }
    },
    {
      "cell_type": "code",
      "source": [
        "dict_city ={'ЦТ': ['Москва', 'Тверь', 'Химки', 'Мытищи'],\n",
        "    'ЮЖ': ['Ростов-на-Дону', 'Краснодар', 'Сочи', 'Анапа'],\n",
        "    'СВ': ['Мурманск', 'Магадан', 'Якутск'],\n",
        "    'СЗ': ['Санкт-Петербург', 'Псков', 'Вологда']}\n",
        "dict_city"
      ],
      "metadata": {
        "colab": {
          "base_uri": "https://localhost:8080/"
        },
        "id": "RIxHTsd6SQ-x",
        "outputId": "9192642a-e496-4b01-cc1e-91d4b8c4aa88"
      },
      "execution_count": 7,
      "outputs": [
        {
          "output_type": "execute_result",
          "data": {
            "text/plain": [
              "{'ЦТ': ['Москва', 'Тверь', 'Химки', 'Мытищи'],\n",
              " 'ЮЖ': ['Ростов-на-Дону', 'Краснодар', 'Сочи', 'Анапа'],\n",
              " 'СВ': ['Мурманск', 'Магадан', 'Якутск'],\n",
              " 'СЗ': ['Санкт-Петербург', 'Псков', 'Вологда']}"
            ]
          },
          "metadata": {},
          "execution_count": 7
        }
      ]
    },
    {
      "cell_type": "code",
      "source": [
        "def print_dist_info(district_code):\n",
        "    print(dict_fed.get(district_code))\n",
        "    cities = dict_city.get(district_code, [])\n",
        "    if cities:\n",
        "        for city in cities:\n",
        "            print(city)\n",
        "    else:\n",
        "        print(\"В этом округе нет известных городов.\")\n",
        "\n",
        "print_dist_info('СЗ')"
      ],
      "metadata": {
        "colab": {
          "base_uri": "https://localhost:8080/"
        },
        "id": "wuFe2mC2TdxS",
        "outputId": "90b41a7d-a9d7-4304-fa7a-89cc0add760e"
      },
      "execution_count": 11,
      "outputs": [
        {
          "output_type": "stream",
          "name": "stdout",
          "text": [
            "Северо-Западный\n",
            "Санкт-Петербург\n",
            "Псков\n",
            "Вологда\n"
          ]
        }
      ]
    },
    {
      "cell_type": "markdown",
      "metadata": {
        "id": "s2OiGBx_NhkJ"
      },
      "source": [
        "## 2.1.3: Objects\n",
        "\n",
        "Создайте класс `Pet` с параметрами `name, pronoun, animal,` и `pet_response`.\n",
        "\n",
        "Добавьте метод `pet()`, который печатает ответ, состоящий из элементов, например:\n",
        "\n",
        "` Лейла — кошка. Если ее погладить, Лейла мурчит».`\n",
        "` Скаут — собака. Если его погладить, Скаут виляет хвостом.`"
      ]
    },
    {
      "cell_type": "code",
      "execution_count": null,
      "metadata": {
        "colab": {
          "base_uri": "https://localhost:8080/"
        },
        "id": "3Tn3xzU2NhkJ",
        "outputId": "546c5953-65c9-4e7b-9fda-c253f777650a"
      },
      "outputs": [
        {
          "output_type": "stream",
          "name": "stdout",
          "text": [
            "Лейла — кошка. Если её погладить, Лейла мурчит\n",
            "Скаут — собака. Если его погладить, Скаут виляет хвостом\n"
          ]
        }
      ],
      "source": [
        "class Pet:\n",
        "    def __init__(self, name, pronoun, animal, pet_response):\n",
        "        self.name = name\n",
        "        self.pronoun = pronoun\n",
        "        self.animal = animal\n",
        "        self.pet_response = pet_response\n",
        "\n",
        "    def pet(self):\n",
        "        print(f\"{self.name} — {self.animal}. Если {self.pronoun} погладить, {self.name} {self.pet_response}\")\n",
        "\n",
        "leila = Pet(\"Лейла\", \"её\", \"кошка\", \"мурчит\")\n",
        "scout = Pet(\"Скаут\", \"его\", \"собака\", \"виляет хвостом\")\n",
        "\n",
        "leila.pet()\n",
        "scout.pet()\n"
      ]
    },
    {
      "cell_type": "markdown",
      "metadata": {
        "id": "HSXrDKu4NhkJ"
      },
      "source": [
        "Вот несколько примеров вызовов:"
      ]
    },
    {
      "cell_type": "code",
      "execution_count": null,
      "metadata": {
        "colab": {
          "base_uri": "https://localhost:8080/"
        },
        "id": "0W4s68vyNhkK",
        "outputId": "cfe67f2b-7fdb-4220-b191-13c91ae4a0c2"
      },
      "outputs": [
        {
          "output_type": "stream",
          "name": "stdout",
          "text": [
            "Layla — cat. Если her погладить, Layla purrs\n",
            "Scout — dog. Если her погладить, Scout wags her tail\n"
          ]
        }
      ],
      "source": [
        "layla = Pet(\"Layla\", \"her\", \"cat\", \"purrs\")\n",
        "scout = Pet(\"Scout\", \"her\", \"dog\", \"wags her tail\")\n",
        "\n",
        "layla.pet()\n",
        "scout.pet()"
      ]
    },
    {
      "cell_type": "markdown",
      "metadata": {
        "collapsed": true,
        "id": "xAkXPlD4NhkK"
      },
      "source": [
        "## 2.1.4: Pandas Series"
      ]
    },
    {
      "cell_type": "markdown",
      "metadata": {
        "id": "oCpeHe2-NhkL"
      },
      "source": [
        "Создайте `pandas series`, используя приведенные ниже списки, содержащие названия команд [Российской премьер-лиги](https://ru.wikipedia.org/wiki/%D0%A0%D0%BE%D1%81%D1%81%D0%B8%D0%B9%D1%81%D0%BA%D0%B0%D1%8F_%D0%BF%D1%80%D0%B5%D0%BC%D1%8C%D0%B5%D1%80-%D0%BB%D0%B8%D0%B3%D0%B0) и количество выигранных ими кубка премьер-лиги. Используйте имена как индексы, а победы как данные.\n",
        "\n",
        "  * После создания списка отсортируйте данные в алфавитном порядке по индексу.\n",
        "  * Распечатать обзор статистических свойств ряда. Каково среднее количество побед?\n",
        "  * Отфильтровать все команды, выигравшие менее четырех кубков премьер-лиги.\n",
        "  * В футбольной команде 11 игроков. Обновите данные, чтобы вместо количества чемпионатов,  отражалось количество побед.\n",
        "  * Предположим, что каждая  победа приносила 50 000 долларов США. Обновите данные, чтобы они содержали строку суммы в долларах, включая знак \\$. Например, для `Локомотив` это будет соответствовать:\n",
        "  ```\n",
        "  Тренер Юрий Сёмин  Локомотив $ 600000\n",
        "  ```"
      ]
    },
    {
      "cell_type": "markdown",
      "source": [
        "Парсинг количества выигранных кубков с сайта и создание pandas series"
      ],
      "metadata": {
        "id": "N0bPhf9WONVv"
      }
    },
    {
      "cell_type": "code",
      "source": [
        "import requests\n",
        "from bs4 import BeautifulSoup\n",
        "import pandas as pd\n",
        "\n",
        "wiki_url = \"https://ru.wikipedia.org/wiki/Российская_премьер-лига\"\n",
        "\n",
        "response = requests.get(wiki_url)\n",
        "html_content = response.content\n",
        "\n",
        "soup = BeautifulSoup(html_content, 'html.parser')\n",
        "table = soup.find('table', {'class': 'wikitable', 'style': 'text-align:center'})\n",
        "\n",
        "df = pd.read_html(str(table), header=0)[0]\n",
        "\n",
        "series_filter = df.set_index('Тренер')['Кубок']\n",
        "print(series_filter)"
      ],
      "metadata": {
        "colab": {
          "base_uri": "https://localhost:8080/"
        },
        "id": "5J8R1MAMOMnW",
        "outputId": "c22bc686-9725-4f92-f238-61b1c693cdb6"
      },
      "execution_count": 5,
      "outputs": [
        {
          "output_type": "stream",
          "name": "stdout",
          "text": [
            "Тренер\n",
            "Юрий Сёмин («Локомотив»)                    6\n",
            "Олег Романцев («Спартак»)                   3\n",
            "Сергей Семак («Зенит»)                      1\n",
            "Валерий Газзаев («Спартак-Алания», ЦСКА)    4\n",
            "Леонид Слуцкий (ЦСКА)                       2\n",
            "Курбан Бердыев («Рубин»)                    1\n",
            "Лучано Спаллетти («Зенит»)                  1\n",
            "Андре Виллаш-Боаш («Зенит»)                 1\n",
            "Дик Адвокат («Зенит»)                       0\n",
            "Массимо Каррера («Спартак»)                 0\n",
            "Зико (ЦСКА)                                 1\n",
            "Георгий Ярцев («Спартак»)                   0\n",
            "Юрий Миронов («Торпедо»)                    1\n",
            "Константин Бесков («Динамо»)                1\n",
            "Анатолий Давыдов («Зенит»)                  1\n",
            "Ваит Талгаев («Терек»)                      1\n",
            "Анатолий Бышовец («Локомотив»)              1\n",
            "Миодраг Божович («Ростов»)                  1\n",
            "Игорь Черевченко («Локомотив»)              1\n",
            "Дмитрий Парфёнов («Тосно»)                  1\n",
            "Марко Николич («Локомотив»)                 1\n",
            "Паоло Ваноли («Спартак»)                    1\n",
            "Владимир Федотов (ЦСКА)                     1\n",
            "Властимил Петржела («Зенит»)                0\n",
            "Артур Жорже (ЦСКА)                          0\n",
            "Мирча Луческу («Зенит»)                     0\n",
            "Виктор Гончаренко (ЦСКА)                    0\n",
            "Name: Кубок, dtype: int64\n"
          ]
        }
      ]
    },
    {
      "cell_type": "markdown",
      "source": [
        "Сортировка данных в алфавитном порядке по индексу"
      ],
      "metadata": {
        "id": "GwzDWCNyTIhN"
      }
    },
    {
      "cell_type": "code",
      "source": [
        "series_sort = series_filter.sort_index()\n",
        "series_sort"
      ],
      "metadata": {
        "colab": {
          "base_uri": "https://localhost:8080/"
        },
        "id": "jG2Z5aXdbd1i",
        "outputId": "6a224dbd-d399-49b7-c3e1-909e0c10b9a8"
      },
      "execution_count": 6,
      "outputs": [
        {
          "output_type": "execute_result",
          "data": {
            "text/plain": [
              "Тренер\n",
              "Анатолий Бышовец («Локомотив»)              1\n",
              "Анатолий Давыдов («Зенит»)                  1\n",
              "Андре Виллаш-Боаш («Зенит»)                 1\n",
              "Артур Жорже (ЦСКА)                          0\n",
              "Ваит Талгаев («Терек»)                      1\n",
              "Валерий Газзаев («Спартак-Алания», ЦСКА)    4\n",
              "Виктор Гончаренко (ЦСКА)                    0\n",
              "Владимир Федотов (ЦСКА)                     1\n",
              "Властимил Петржела («Зенит»)                0\n",
              "Георгий Ярцев («Спартак»)                   0\n",
              "Дик Адвокат («Зенит»)                       0\n",
              "Дмитрий Парфёнов («Тосно»)                  1\n",
              "Зико (ЦСКА)                                 1\n",
              "Игорь Черевченко («Локомотив»)              1\n",
              "Константин Бесков («Динамо»)                1\n",
              "Курбан Бердыев («Рубин»)                    1\n",
              "Леонид Слуцкий (ЦСКА)                       2\n",
              "Лучано Спаллетти («Зенит»)                  1\n",
              "Марко Николич («Локомотив»)                 1\n",
              "Массимо Каррера («Спартак»)                 0\n",
              "Миодраг Божович («Ростов»)                  1\n",
              "Мирча Луческу («Зенит»)                     0\n",
              "Олег Романцев («Спартак»)                   3\n",
              "Паоло Ваноли («Спартак»)                    1\n",
              "Сергей Семак («Зенит»)                      1\n",
              "Юрий Миронов («Торпедо»)                    1\n",
              "Юрий Сёмин («Локомотив»)                    6\n",
              "Name: Кубок, dtype: int64"
            ]
          },
          "metadata": {},
          "execution_count": 6
        }
      ]
    },
    {
      "cell_type": "markdown",
      "source": [
        "Распечатать обзор статистических свойств ряда. Каково среднее количество побед?"
      ],
      "metadata": {
        "id": "ts5XWtp8Ti0M"
      }
    },
    {
      "cell_type": "code",
      "source": [
        "series_sort.describe()"
      ],
      "metadata": {
        "colab": {
          "base_uri": "https://localhost:8080/"
        },
        "id": "OCuE7k8Nb_kU",
        "outputId": "49a184ba-2aed-4a28-a7ad-a9fc2912d7d7"
      },
      "execution_count": 7,
      "outputs": [
        {
          "output_type": "execute_result",
          "data": {
            "text/plain": [
              "count    27.000000\n",
              "mean      1.148148\n",
              "std       1.321529\n",
              "min       0.000000\n",
              "25%       0.500000\n",
              "50%       1.000000\n",
              "75%       1.000000\n",
              "max       6.000000\n",
              "Name: Кубок, dtype: float64"
            ]
          },
          "metadata": {},
          "execution_count": 7
        }
      ]
    },
    {
      "cell_type": "markdown",
      "source": [
        "Ответ: 1.148148"
      ],
      "metadata": {
        "id": "19uC9Dh_T5U1"
      }
    },
    {
      "cell_type": "markdown",
      "source": [
        "Отфильтровать все команды, выигравшие менее четырех кубков премьер-лиги."
      ],
      "metadata": {
        "id": "X5AoDsgxTX7B"
      }
    },
    {
      "cell_type": "code",
      "source": [
        "filt_teams = series_sort[series_sort < 4]\n",
        "filt_teams"
      ],
      "metadata": {
        "colab": {
          "base_uri": "https://localhost:8080/"
        },
        "id": "vgGdUiG5cRA4",
        "outputId": "ebbc10ad-9952-4f1c-9ca8-da044c58d444"
      },
      "execution_count": 8,
      "outputs": [
        {
          "output_type": "execute_result",
          "data": {
            "text/plain": [
              "Тренер\n",
              "Анатолий Бышовец («Локомотив»)    1\n",
              "Анатолий Давыдов («Зенит»)        1\n",
              "Андре Виллаш-Боаш («Зенит»)       1\n",
              "Артур Жорже (ЦСКА)                0\n",
              "Ваит Талгаев («Терек»)            1\n",
              "Виктор Гончаренко (ЦСКА)          0\n",
              "Владимир Федотов (ЦСКА)           1\n",
              "Властимил Петржела («Зенит»)      0\n",
              "Георгий Ярцев («Спартак»)         0\n",
              "Дик Адвокат («Зенит»)             0\n",
              "Дмитрий Парфёнов («Тосно»)        1\n",
              "Зико (ЦСКА)                       1\n",
              "Игорь Черевченко («Локомотив»)    1\n",
              "Константин Бесков («Динамо»)      1\n",
              "Курбан Бердыев («Рубин»)          1\n",
              "Леонид Слуцкий (ЦСКА)             2\n",
              "Лучано Спаллетти («Зенит»)        1\n",
              "Марко Николич («Локомотив»)       1\n",
              "Массимо Каррера («Спартак»)       0\n",
              "Миодраг Божович («Ростов»)        1\n",
              "Мирча Луческу («Зенит»)           0\n",
              "Олег Романцев («Спартак»)         3\n",
              "Паоло Ваноли («Спартак»)          1\n",
              "Сергей Семак («Зенит»)            1\n",
              "Юрий Миронов («Торпедо»)          1\n",
              "Name: Кубок, dtype: int64"
            ]
          },
          "metadata": {},
          "execution_count": 8
        }
      ]
    },
    {
      "cell_type": "markdown",
      "source": [
        "В футбольной команде 11 игроков. Обновите данные, чтобы вместо количества чемпионатов, отражалось количество побед."
      ],
      "metadata": {
        "id": "hoPcO0EPUoLA"
      }
    },
    {
      "cell_type": "code",
      "source": [
        "wiki_url = \"https://ru.wikipedia.org/wiki/Российская_премьер-лига\"\n",
        "\n",
        "response = requests.get(wiki_url)\n",
        "html_content = response.content\n",
        "\n",
        "soup = BeautifulSoup(html_content, 'html.parser')\n",
        "table = soup.find('table', {'class': 'wikitable', 'style': 'text-align:center'})\n",
        "\n",
        "df = pd.read_html(str(table), header=0)[0]\n",
        "\n",
        "series_new = df.set_index('Тренер')['Всего']\n",
        "print(series_new)"
      ],
      "metadata": {
        "colab": {
          "base_uri": "https://localhost:8080/"
        },
        "id": "VIH_Cw4YUqSY",
        "outputId": "c4fad178-293f-4d64-a9b4-220b083da198"
      },
      "execution_count": 9,
      "outputs": [
        {
          "output_type": "stream",
          "name": "stdout",
          "text": [
            "Тренер\n",
            "Юрий Сёмин («Локомотив»)                    12\n",
            "Олег Романцев («Спартак»)                   11\n",
            "Сергей Семак («Зенит»)                      10\n",
            "Валерий Газзаев («Спартак-Алания», ЦСКА)    10\n",
            "Леонид Слуцкий (ЦСКА)                        7\n",
            "Курбан Бердыев («Рубин»)                     5\n",
            "Лучано Спаллетти («Зенит»)                   4\n",
            "Андре Виллаш-Боаш («Зенит»)                  3\n",
            "Дик Адвокат («Зенит»)                        2\n",
            "Массимо Каррера («Спартак»)                  2\n",
            "Зико (ЦСКА)                                  2\n",
            "Георгий Ярцев («Спартак»)                    1\n",
            "Юрий Миронов («Торпедо»)                     1\n",
            "Константин Бесков («Динамо»)                 1\n",
            "Анатолий Давыдов («Зенит»)                   1\n",
            "Ваит Талгаев («Терек»)                       1\n",
            "Анатолий Бышовец («Локомотив»)               1\n",
            "Миодраг Божович («Ростов»)                   1\n",
            "Игорь Черевченко («Локомотив»)               1\n",
            "Дмитрий Парфёнов («Тосно»)                   1\n",
            "Марко Николич («Локомотив»)                  1\n",
            "Паоло Ваноли («Спартак»)                     1\n",
            "Владимир Федотов (ЦСКА)                      1\n",
            "Властимил Петржела («Зенит»)                 1\n",
            "Артур Жорже (ЦСКА)                           1\n",
            "Мирча Луческу («Зенит»)                      1\n",
            "Виктор Гончаренко (ЦСКА)                     1\n",
            "Name: Всего, dtype: int64\n"
          ]
        }
      ]
    },
    {
      "cell_type": "markdown",
      "source": [
        "Предположим, что каждая победа приносила 50 000 долларов США. Обновите данные, чтобы они содержали строку суммы в долларах, включая знак $. Например, для Локомотив это будет соответствовать:\n",
        "\n",
        "```\n",
        "Тренер Юрий Сёмин  Локомотив $ 600000\n",
        "```\n",
        "\n"
      ],
      "metadata": {
        "id": "xSTLwkOXVuLn"
      }
    },
    {
      "cell_type": "code",
      "execution_count": 24,
      "metadata": {
        "colab": {
          "base_uri": "https://localhost:8080/"
        },
        "id": "Qxe2fbkHNhkL",
        "outputId": "bde0580c-a231-4875-ddf1-66652dab615f"
      },
      "outputs": [
        {
          "output_type": "stream",
          "name": "stdout",
          "text": [
            "Тренер\n",
            "Юрий Сёмин («Локомотив»)                    $ 600000\n",
            "Олег Романцев («Спартак»)                   $ 550000\n",
            "Сергей Семак («Зенит»)                      $ 500000\n",
            "Валерий Газзаев («Спартак-Алания», ЦСКА)    $ 500000\n",
            "Леонид Слуцкий (ЦСКА)                       $ 350000\n",
            "Курбан Бердыев («Рубин»)                    $ 250000\n",
            "Лучано Спаллетти («Зенит»)                  $ 200000\n",
            "Андре Виллаш-Боаш («Зенит»)                 $ 150000\n",
            "Дик Адвокат («Зенит»)                       $ 100000\n",
            "Массимо Каррера («Спартак»)                 $ 100000\n",
            "Зико (ЦСКА)                                 $ 100000\n",
            "Георгий Ярцев («Спартак»)                    $ 50000\n",
            "Юрий Миронов («Торпедо»)                     $ 50000\n",
            "Константин Бесков («Динамо»)                 $ 50000\n",
            "Анатолий Давыдов («Зенит»)                   $ 50000\n",
            "Ваит Талгаев («Терек»)                       $ 50000\n",
            "Анатолий Бышовец («Локомотив»)               $ 50000\n",
            "Миодраг Божович («Ростов»)                   $ 50000\n",
            "Игорь Черевченко («Локомотив»)               $ 50000\n",
            "Дмитрий Парфёнов («Тосно»)                   $ 50000\n",
            "Марко Николич («Локомотив»)                  $ 50000\n",
            "Паоло Ваноли («Спартак»)                     $ 50000\n",
            "Владимир Федотов (ЦСКА)                      $ 50000\n",
            "Властимил Петржела («Зенит»)                 $ 50000\n",
            "Артур Жорже (ЦСКА)                           $ 50000\n",
            "Мирча Луческу («Зенит»)                      $ 50000\n",
            "Виктор Гончаренко (ЦСКА)                     $ 50000\n",
            "Name: Всего, dtype: object\n"
          ]
        }
      ],
      "source": [
        "def toDollars(amount):\n",
        "    return \"$ \" + str(amount)\n",
        "\n",
        "dollars_win = 50000\n",
        "df_dollars = df['Всего'] * dollars_win\n",
        "df_dollars = df_dollars.apply(toDollars)\n",
        "df_dollars.index = df['Тренер']\n",
        "\n",
        "print(df_dollars)"
      ]
    },
    {
      "cell_type": "code",
      "execution_count": null,
      "metadata": {
        "id": "pX1raf2uNhkM"
      },
      "outputs": [],
      "source": []
    }
  ],
  "metadata": {
    "anaconda-cloud": {},
    "kernelspec": {
      "display_name": "Python 3",
      "language": "python",
      "name": "python3"
    },
    "language_info": {
      "codemirror_mode": {
        "name": "ipython",
        "version": 3
      },
      "file_extension": ".py",
      "mimetype": "text/x-python",
      "name": "python",
      "nbconvert_exporter": "python",
      "pygments_lexer": "ipython3",
      "version": "3.9.13"
    },
    "colab": {
      "provenance": []
    }
  },
  "nbformat": 4,
  "nbformat_minor": 0
}